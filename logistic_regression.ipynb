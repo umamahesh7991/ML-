{
  "nbformat": 4,
  "nbformat_minor": 0,
  "metadata": {
    "colab": {
      "provenance": [],
      "authorship_tag": "ABX9TyNBvOlwwGtAWEPLgbbbVYfv",
      "include_colab_link": true
    },
    "kernelspec": {
      "name": "python3",
      "display_name": "Python 3"
    },
    "language_info": {
      "name": "python"
    }
  },
  "cells": [
    {
      "cell_type": "markdown",
      "metadata": {
        "id": "view-in-github",
        "colab_type": "text"
      },
      "source": [
        "<a href=\"https://colab.research.google.com/github/umamahesh7991/ML-/blob/main/logistic_regression.ipynb\" target=\"_parent\"><img src=\"https://colab.research.google.com/assets/colab-badge.svg\" alt=\"Open In Colab\"/></a>"
      ]
    },
    {
      "cell_type": "code",
      "execution_count": 5,
      "metadata": {
        "colab": {
          "base_uri": "https://localhost:8080/"
        },
        "id": "B2QaUVb8lyKr",
        "outputId": "9f11169a-0637-4005-d977-a43558ba33e8"
      },
      "outputs": [
        {
          "output_type": "stream",
          "name": "stdout",
          "text": [
            "Dataset preview:\n",
            "   Value1  Value2  Result  IsGreaterThan100\n",
            "0      14       0       0                 0\n",
            "1      10       7      70                 0\n",
            "2       0       9       0                 0\n",
            "3      19       1      19                 0\n",
            "4      12       5      60                 0\n",
            "Mean Squared Error (MSE): 0.11116230868976126\n",
            "R² Score: 0.5264129906512847\n",
            "\n",
            "Comparison of actual labels and predicted probabilities:\n",
            "     Actual  Predicted Probability\n",
            "280       0               0.670844\n",
            "434       1               0.453385\n",
            "39        0               0.325983\n",
            "417       1               0.389070\n",
            "584       0               0.825804\n",
            "\n",
            "Predictions for new data:\n",
            "   Value1  Value2\n",
            "0       3       4\n",
            "1      10      20\n",
            "Predicted Probabilities: [0.11059062 0.59170311]\n"
          ]
        }
      ],
      "source": [
        "import pandas as pd\n",
        "from sklearn.model_selection import train_test_split\n",
        "from sklearn.linear_model import LogisticRegression\n",
        "from sklearn.metrics import mean_squared_error, r2_score\n",
        "\n",
        "# Load the dataset\n",
        "data_path = '/content/result.csv'\n",
        "data = pd.read_csv(data_path)\n",
        "\n",
        "# Feature engineering: create a binary column 'IsGreaterThan100'\n",
        "data['IsGreaterThan100'] = (data['Result'] > 100).astype(int)\n",
        "\n",
        "# Display first few rows of the dataset (optional, for understanding the data)\n",
        "print(\"Dataset preview:\")\n",
        "print(data.head())\n",
        "\n",
        "# Extract features (Value1 and Value2) and the target (IsGreaterThan100)\n",
        "X = data[['Value1', 'Value2']]  # Independent variables\n",
        "y = data['IsGreaterThan100']    # Dependent variable (binary target)\n",
        "\n",
        "# Split the dataset into training and testing sets\n",
        "X_train, X_test, y_train, y_test = train_test_split(X, y, test_size=0.2, random_state=42)\n",
        "\n",
        "# Create the Logistic Regression model\n",
        "model = LogisticRegression()\n",
        "\n",
        "# Train the model on the training data\n",
        "model.fit(X_train, y_train)\n",
        "\n",
        "# Predict probabilities on the testing set (these are continuous values between 0 and 1)\n",
        "y_pred_prob = model.predict_proba(X_test)[:, 1]\n",
        "\n",
        "# Calculate MSE (on predicted probabilities vs actual binary labels)\n",
        "mse = mean_squared_error(y_test, y_pred_prob)\n",
        "print(f\"Mean Squared Error (MSE): {mse}\")\n",
        "\n",
        "# Calculate R² (on predicted probabilities vs actual binary labels)\n",
        "r2 = r2_score(y_test, y_pred_prob)\n",
        "print(f\"R² Score: {r2}\")\n",
        "\n",
        "# Display the actual vs predicted probabilities (optional)\n",
        "comparison = pd.DataFrame({'Actual': y_test, 'Predicted Probability': y_pred_prob})\n",
        "print(\"\\nComparison of actual labels and predicted probabilities:\")\n",
        "print(comparison.head())\n",
        "\n",
        "# If you want to make predictions on new data (optional)\n",
        "new_data = pd.DataFrame({'Value1': [3, 10], 'Value2': [4, 20]})\n",
        "predicted_prob = model.predict_proba(new_data)[:, 1]\n",
        "print(f\"\\nPredictions for new data:\\n{new_data}\\nPredicted Probabilities: {predicted_prob}\")\n"
      ]
    }
  ]
}